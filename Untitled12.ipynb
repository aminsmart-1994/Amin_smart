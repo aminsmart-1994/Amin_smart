{
  "nbformat": 4,
  "nbformat_minor": 0,
  "metadata": {
    "colab": {
      "provenance": [],
      "authorship_tag": "ABX9TyPwg7XIzawIjnx1o0Ir3yVq",
      "include_colab_link": true
    },
    "kernelspec": {
      "name": "python3",
      "display_name": "Python 3"
    },
    "language_info": {
      "name": "python"
    }
  },
  "cells": [
    {
      "cell_type": "markdown",
      "metadata": {
        "id": "view-in-github",
        "colab_type": "text"
      },
      "source": [
        "<a href=\"https://colab.research.google.com/github/aminsmart-1994/Amin_smart/blob/main/Untitled12.ipynb\" target=\"_parent\"><img src=\"https://colab.research.google.com/assets/colab-badge.svg\" alt=\"Open In Colab\"/></a>"
      ]
    },
    {
      "cell_type": "code",
      "execution_count": 2,
      "metadata": {
        "id": "jWgL9U_2auCM"
      },
      "outputs": [],
      "source": [
        "import pandas as pd\n",
        "import numpy as np\n",
        "import matplotlib.pyplot as plt\n",
        "import seaborn as sns"
      ]
    },
    {
      "cell_type": "code",
      "source": [
        " #Reading the dataset\n",
        "dataset = pd.read_csv(\"Advertising.csv\")"
      ],
      "metadata": {
        "id": "bKeGM2ZUbTsd"
      },
      "execution_count": 4,
      "outputs": []
    },
    {
      "cell_type": "code",
      "source": [
        "dataset.head()"
      ],
      "metadata": {
        "id": "wMmsVOUCbiVx"
      },
      "execution_count": null,
      "outputs": []
    },
    {
      "cell_type": "code",
      "source": [
        "#Setting the value for X and Y\n",
        "x = dataset[['TV']]\n",
        "y = dataset['Sales']"
      ],
      "metadata": {
        "id": "--18iAU6c7C-"
      },
      "execution_count": null,
      "outputs": []
    },
    {
      "cell_type": "code",
      "source": [
        "from sklearn.model_selection import train_test_split\n",
        "x_train, x_test, y_train, y_test = train_test_split(x, y, test_size = 0.3, random_state = 100)"
      ],
      "metadata": {
        "id": "attjnRh7dFtB"
      },
      "execution_count": null,
      "outputs": []
    },
    {
      "cell_type": "code",
      "source": [
        "#Fitting the Linear Regression model\n",
        "from sklearn.linear_model import LinearRegression\n",
        "slr=LinearRegression()\n",
        "slr.fit(x_train,y_train)"
      ],
      "metadata": {
        "id": "bLO3PJ3fDNMe"
      },
      "execution_count": null,
      "outputs": []
    },
    {
      "cell_type": "code",
      "source": [
        "#Prediction of test set\n",
        "y_pred_slr= slr.predict(x_test)\n",
        "#Predicted values\n",
        "print(\"Prediction for test set: {}\".format(y_pred_slr))"
      ],
      "metadata": {
        "id": "6CEnY1F-EFno"
      },
      "execution_count": null,
      "outputs": []
    },
    {
      "cell_type": "code",
      "source": [
        "#Actual value and the predicted value\n",
        "slr_diff = pd.DataFrame({'Actual value': y_test, 'Predicted value': y_pred_slr})\n",
        "slr_diff.head()"
      ],
      "metadata": {
        "id": "DPHKzu9sEHEc"
      },
      "execution_count": null,
      "outputs": []
    },
    {
      "cell_type": "code",
      "source": [
        "#Line of best fit\n",
        "plt.scatter(x_test,y_test)\n",
        "plt.plot(x_test, y_pred_slr, 'Red')\n",
        "plt.show()"
      ],
      "metadata": {
        "id": "5V3Zhv9HEN5l"
      },
      "execution_count": null,
      "outputs": []
    },
    {
      "cell_type": "code",
      "source": [
        "#Model Evaluation\n",
        "from sklearn import metrics\n",
        "meanAbErr = metrics.mean_absolute_error(y_test, y_pred_slr)\n",
        "meanSqErr = metrics.mean_squared_error(y_test, y_pred_slr)\n",
        "rootMeanSqErr = np.sqrt(metrics.mean_squared_error(y_test, y_pred_slr))\n",
        "print('R squared: {:.2f}'.format(slr.score(x,y)*100))\n",
        "print('Mean Absolute Error:', meanAbErr)\n",
        "print('Mean Square Error:', meanSqErr)\n",
        "print('Root Mean Square Error:', rootMeanSqErr)"
      ],
      "metadata": {
        "id": "HNc7cKqUEWkS"
      },
      "execution_count": null,
      "outputs": []
    },
    {
      "cell_type": "code",
      "source": [
        "# imports\n",
        "import numpy as np\n",
        "import matplotlib.pyplot as plt\n",
        "import pandas as pd\n",
        "#load_dat\n",
        "data=pd.read_csv('mark_data.csv')\n",
        "# X = feature values, all the columns except the last column\n",
        "X = data.iloc[:, :-1]\n",
        "# y = target values, last column of the data frame\n",
        "y = data.iloc[:, -1]\n",
        "# filter out the applicants that got admitted\n",
        "admitted = data.loc[y == 1]\n",
        "# filter out the applicants that din't get admission\n",
        "not_admitted = data.loc[y == 0]\n",
        "# plots\n",
        "plt.scatter(admitted.iloc[:, 0], admitted.iloc[:, 1], s=10, label='Admitted')\n",
        "plt.scatter(not_admitted.iloc[:, 0], not_admitted.iloc[:, 1], s=10, label='Not Admitted')\n",
        "plt.legend()\n",
        "plt.show()"
      ],
      "metadata": {
        "id": "vFCD618Ew8VE"
      },
      "execution_count": null,
      "outputs": []
    },
    {
      "cell_type": "code",
      "source": [
        "from sklearn.linear_model import LogisticRegression\n",
        "from sklearn.metrics import accuracy_score \n",
        "model = LogisticRegression()\n",
        "model.fit(X, y)\n",
        "clf=model.fit(X, y)\n"
      ],
      "metadata": {
        "id": "ou6CTI2wy4Nx"
      },
      "execution_count": 18,
      "outputs": []
    },
    {
      "cell_type": "code",
      "source": [
        "clf=model.fit(X,y)\n",
        "clf.predict_proba(X[:2, :]) "
      ],
      "metadata": {
        "id": "ywqTpQl7zFqf"
      },
      "execution_count": null,
      "outputs": []
    },
    {
      "cell_type": "code",
      "source": [
        "clf.score(X,y)"
      ],
      "metadata": {
        "id": "zGt_h0mazvjx"
      },
      "execution_count": null,
      "outputs": []
    }
  ]
}